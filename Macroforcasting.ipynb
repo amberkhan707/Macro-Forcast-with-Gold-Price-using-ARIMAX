{
 "cells": [
  {
   "cell_type": "markdown",
   "id": "0a0738e9-6ed7-4858-b403-8fc14b6ef9b8",
   "metadata": {},
   "source": [
    "## Macro Forecasting of Asset price "
   ]
  },
  {
   "cell_type": "markdown",
   "id": "9f8060e0-d17a-4c54-b36f-9d47503c2edd",
   "metadata": {},
   "source": [
    "Important libraries and modules"
   ]
  },
  {
   "cell_type": "code",
   "execution_count": 493,
   "id": "d83afbe5-b1e5-4826-94da-872a00c2a6b6",
   "metadata": {},
   "outputs": [],
   "source": [
    "import pandas as pd\n",
    "import numpy as np \n",
    "import pandas_datareader as pdr\n",
    "from scipy import stats\n",
    "from scipy.stats import jarque_bera\n",
    "import statsmodels.api as sms\n",
    "import matplotlib.pyplot as plt\n",
    "import seaborn as sns\n",
    "import datetime as datetime\n",
    "import yfinance as yf"
   ]
  },
  {
   "cell_type": "markdown",
   "id": "8c4f221c-9853-49ec-bf01-6f478dc5097c",
   "metadata": {},
   "source": [
    "Seaborn ka use hamlog scatterplot aur Heatmap keliye kiye h "
   ]
  },
  {
   "cell_type": "markdown",
   "id": "2f443b99-f1fb-4ee7-99df-964db78412be",
   "metadata": {},
   "source": [
    "# Importing Data "
   ]
  },
  {
   "cell_type": "code",
   "execution_count": 4,
   "id": "11c5893e-e161-4c4e-b238-184dde952b49",
   "metadata": {},
   "outputs": [],
   "source": [
    "start_date = datetime.datetime(2003,1,2)\n",
    "end_date = datetime.datetime.today()"
   ]
  },
  {
   "cell_type": "code",
   "execution_count": 446,
   "id": "f7f7c33a-f221-4392-b879-06687bd42bd1",
   "metadata": {},
   "outputs": [
    {
     "name": "stderr",
     "output_type": "stream",
     "text": [
      "[*********************100%***********************]  1 of 1 completed\n"
     ]
    }
   ],
   "source": [
    "IR = pdr.get_data_fred('EFFR', start=start_date, end=end_date)\n",
    "I = pdr.get_data_fred('T5YIE', start=start_date, end=end_date)\n",
    "Gold = yf.download('GC=F',start=start_date, end=end_date)"
   ]
  },
  {
   "cell_type": "markdown",
   "id": "82ecf434-3a52-455d-ad35-dc2dc105a903",
   "metadata": {},
   "source": [
    "Here:\n",
    "EFFR  - Fed fund rate in real time what is happenign with bank in US each day\n",
    "T5YIE - It gives the Inflation expectaion : Treasury yeaild - Treasury yeild adjusted with Inflation \n",
    "so you will get inflation expectation"
   ]
  },
  {
   "cell_type": "markdown",
   "id": "48e54b40-15a9-4900-86c1-0a74f7e38bfc",
   "metadata": {},
   "source": [
    "# Plotting DataFrame"
   ]
  },
  {
   "cell_type": "code",
   "execution_count": 455,
   "id": "c0fc137a-cdb6-4d62-a53d-072a1ed1a9c3",
   "metadata": {},
   "outputs": [],
   "source": [
    "%%capture\n",
    "fig, ax = plt.subplots(3, 1, figsize=(10, 18))\n",
    "ax[0].plot(IR.dropna(), c='blue', label=\"Interest rate\")\n",
    "ax[1].plot(Gold['Close'].dropna(), c='yellow', label=\"Gold\")\n",
    "ax[2].plot(I.dropna(), c='red', label=\"Inflation\")"
   ]
  },
  {
   "cell_type": "markdown",
   "id": "abe08834-e9aa-42a4-b3ff-5d34ebbb6f22",
   "metadata": {},
   "source": [
    "# Refining Data"
   ]
  },
  {
   "cell_type": "code",
   "execution_count": 365,
   "id": "aca7cead-25b4-4f26-a6ca-1cc092a74df6",
   "metadata": {},
   "outputs": [],
   "source": [
    "def fill_nan_with_surrounding_mean(df, column_name):\n",
    "    nan_labels = df.index[df[column_name].isna()].tolist()\n",
    "    for label in nan_labels:\n",
    "        \n",
    "        pos = df.index.get_loc(label)\n",
    "        window_start = max(0, pos - 1)\n",
    "        window_end = min(len(df) - 1, pos + 1)\n",
    "        window_values = df[column_name].iloc[window_start : window_end + 1]\n",
    "        window_values = window_values.drop(label, errors='ignore')\n",
    "        mean_val = window_values.mean()\n",
    "        df.at[label, column_name] = mean_val"
   ]
  },
  {
   "cell_type": "code",
   "execution_count": 387,
   "id": "2c4e0ccc-1f66-4737-a93c-04ca2a03fd11",
   "metadata": {},
   "outputs": [],
   "source": [
    "fill_nan_with_surrounding_mean(df, 'Low')"
   ]
  },
  {
   "cell_type": "markdown",
   "id": "8ce41bac-db30-48dc-a1bc-208fdfb258a0",
   "metadata": {},
   "source": [
    "1. For IR totalnull = 217\n",
    "2. For I totalnull = 217\n",
    "3. ->Both filled with its 5 backward and 5 forward avg value from the above function\n",
    "4. IR and I have total 5804 value and Gold have only 5583 value so that many Nan value occur after merging -> we remove using 1 backward and 1 forward avg value of Gold\n",
    "   "
   ]
  },
  {
   "cell_type": "markdown",
   "id": "e3867305-676b-43fa-8bd8-626a3cbdcd5a",
   "metadata": {},
   "source": [
    "# Merging DataFrame"
   ]
  },
  {
   "cell_type": "code",
   "execution_count": 107,
   "id": "6987c6c4-33fb-4e08-93fa-8031fe77079c",
   "metadata": {},
   "outputs": [],
   "source": [
    "df1 = pd.merge(Gold,IR , on = 'DATE', how = 'outer')\n",
    "df = pd.merge(df1,I , on = 'DATE', how = 'outer')"
   ]
  },
  {
   "cell_type": "markdown",
   "id": "d0271c0a-09b9-4cff-a915-c732b675492b",
   "metadata": {},
   "source": [
    "# Na rows to fill row "
   ]
  },
  {
   "cell_type": "code",
   "execution_count": null,
   "id": "1c5806da-e732-49be-8175-91c0db28a457",
   "metadata": {},
   "outputs": [],
   "source": [
    "null = df.isna().any(axis=1)"
   ]
  },
  {
   "cell_type": "code",
   "execution_count": 472,
   "id": "5152b375-ace7-4b77-8012-03dcf11b5a91",
   "metadata": {},
   "outputs": [],
   "source": [
    "%%capture\n",
    "for i in null.index :\n",
    "    cur = df.index.get_loc(i)\n",
    "    print(df.iloc[cur-1:cur+2])"
   ]
  },
  {
   "cell_type": "code",
   "execution_count": 419,
   "id": "d6a7cb38-a5a1-419e-82b0-72e5d9677e6b",
   "metadata": {},
   "outputs": [],
   "source": [
    "df = df.rename(columns={'EFFR':'IR','T5YIE':'Inflation'})"
   ]
  },
  {
   "cell_type": "code",
   "execution_count": 478,
   "id": "6498c1fe-75cd-4a48-be53-3b5227aa6102",
   "metadata": {},
   "outputs": [],
   "source": [
    "df.isnull().sum();"
   ]
  },
  {
   "cell_type": "code",
   "execution_count": 484,
   "id": "bccc43c1-3813-40a5-9cc2-e01c5a12926b",
   "metadata": {},
   "outputs": [
    {
     "data": {
      "text/plain": [
       "<Axes: xlabel='DATE'>"
      ]
     },
     "execution_count": 484,
     "metadata": {},
     "output_type": "execute_result"
    },
    {
     "data": {
      "image/png": "[encoded data removed]",
      "text/plain": [
       "<Figure size 1200x600 with 1 Axes>"
      ]
     },
     "metadata": {},
     "output_type": "display_data"
    }
   ],
   "source": [
    "df[['IR','Inflation']].plot(figsize = (12,6))"
   ]
  },
  {
   "cell_type": "markdown",
   "id": "35635cd3-9fa8-4ecc-9e61-853815a6ea99",
   "metadata": {},
   "source": [
    "# Correlation"
   ]
  },
  {
   "cell_type": "markdown",
   "id": "f2c8ed7a-807d-433f-a5fa-e42270b548ef",
   "metadata": {},
   "source": [
    "1. Check kro data normal distributed h ya non normal distributed h through - Jarque bera \n",
    "2. Agr non normal h to Spearman test se correlation dekho \n",
    "3. Agr data normal distributed h to Pearson se correlation check kro "
   ]
  },
  {
   "cell_type": "code",
   "execution_count": 486,
   "id": "340b4bf2-c994-455f-bb38-daf2d5baf2fc",
   "metadata": {},
   "outputs": [
    {
     "data": {
      "text/html": [
       "<div>\n",
       "<style scoped>\n",
       "    .dataframe tbody tr th:only-of-type {\n",
       "        vertical-align: middle;\n",
       "    }\n",
       "\n",
       "    .dataframe tbody tr th {\n",
       "        vertical-align: top;\n",
       "    }\n",
       "\n",
       "    .dataframe thead th {\n",
       "        text-align: right;\n",
       "    }\n",
       "</style>\n",
       "<table border=\"1\" class=\"dataframe\">\n",
       "  <thead>\n",
       "    <tr style=\"text-align: right;\">\n",
       "      <th></th>\n",
       "      <th>IR</th>\n",
       "      <th>Inflation</th>\n",
       "    </tr>\n",
       "  </thead>\n",
       "  <tbody>\n",
       "    <tr>\n",
       "      <th>IR</th>\n",
       "      <td>1.00000</td>\n",
       "      <td>0.42469</td>\n",
       "    </tr>\n",
       "    <tr>\n",
       "      <th>Inflation</th>\n",
       "      <td>0.42469</td>\n",
       "      <td>1.00000</td>\n",
       "    </tr>\n",
       "  </tbody>\n",
       "</table>\n",
       "</div>"
      ],
      "text/plain": [
       "                IR  Inflation\n",
       "IR         1.00000    0.42469\n",
       "Inflation  0.42469    1.00000"
      ]
     },
     "execution_count": 486,
     "metadata": {},
     "output_type": "execute_result"
    }
   ],
   "source": [
    "df[['IR','Inflation']].corr()"
   ]
  },
  {
   "cell_type": "code",
   "execution_count": 513,
   "id": "75e342be-8626-47fe-be0b-2537a64a99b2",
   "metadata": {},
   "outputs": [
    {
     "name": "stdout",
     "output_type": "stream",
     "text": [
      "1.0217268833222834e-199\n",
      "0.0\n",
      "6.7895318877606094e-15\n"
     ]
    }
   ],
   "source": [
    "Ir = jarque_bera(df['IR'])\n",
    "I = jarque_bera(df['Inflation'])\n",
    "Gold = jarque_bera(df['Close'])\n",
    "print(Ir.pvalue)\n",
    "print(I.pvalue)\n",
    "print(Gold.pvalue)"
   ]
  },
  {
   "cell_type": "markdown",
   "id": "57587bf2-03e2-4246-9b2e-3bf0e50144af",
   "metadata": {},
   "source": [
    "1. pvalue<0.05 means non-normal : Hypothesis not rejected\n",
    "2. so dono keliye spearman lgana pdega"
   ]
  },
  {
   "cell_type": "code",
   "execution_count": 515,
   "id": "09ffb7a1-786d-4e1d-8b5b-5355c472a5e3",
   "metadata": {},
   "outputs": [
    {
     "data": {
      "text/html": [
       "<div>\n",
       "<style scoped>\n",
       "    .dataframe tbody tr th:only-of-type {\n",
       "        vertical-align: middle;\n",
       "    }\n",
       "\n",
       "    .dataframe tbody tr th {\n",
       "        vertical-align: top;\n",
       "    }\n",
       "\n",
       "    .dataframe thead th {\n",
       "        text-align: right;\n",
       "    }\n",
       "</style>\n",
       "<table border=\"1\" class=\"dataframe\">\n",
       "  <thead>\n",
       "    <tr style=\"text-align: right;\">\n",
       "      <th></th>\n",
       "      <th>IR</th>\n",
       "      <th>Inflation</th>\n",
       "      <th>Close</th>\n",
       "    </tr>\n",
       "  </thead>\n",
       "  <tbody>\n",
       "    <tr>\n",
       "      <th>IR</th>\n",
       "      <td>1.000000</td>\n",
       "      <td>0.401837</td>\n",
       "      <td>-0.172344</td>\n",
       "    </tr>\n",
       "    <tr>\n",
       "      <th>Inflation</th>\n",
       "      <td>0.401837</td>\n",
       "      <td>1.000000</td>\n",
       "      <td>0.073625</td>\n",
       "    </tr>\n",
       "    <tr>\n",
       "      <th>Close</th>\n",
       "      <td>-0.172344</td>\n",
       "      <td>0.073625</td>\n",
       "      <td>1.000000</td>\n",
       "    </tr>\n",
       "  </tbody>\n",
       "</table>\n",
       "</div>"
      ],
      "text/plain": [
       "                 IR  Inflation     Close\n",
       "IR         1.000000   0.401837 -0.172344\n",
       "Inflation  0.401837   1.000000  0.073625\n",
       "Close     -0.172344   0.073625  1.000000"
      ]
     },
     "execution_count": 515,
     "metadata": {},
     "output_type": "execute_result"
    }
   ],
   "source": [
    "df[['IR','Inflation','Close']].corr(method = 'spearman')"
   ]
  },
  {
   "cell_type": "code",
   "execution_count": 521,
   "id": "21909c44-e230-48cf-aa1e-0023e9106ae4",
   "metadata": {},
   "outputs": [],
   "source": [
    "df[['IR','Close','Inflation']].describe();"
   ]
  },
  {
   "cell_type": "markdown",
   "id": "4e13449a-a8db-4954-9a61-bb7782cb6c02",
   "metadata": {},
   "source": [
    "# Model Building "
   ]
  },
  {
   "cell_type": "markdown",
   "id": "eff0af01-c92d-4d31-b1cd-6970c8d01fac",
   "metadata": {},
   "source": [
    "ADFuller Test for Stationary data "
   ]
  },
  {
   "cell_type": "code",
   "execution_count": 551,
   "id": "41a2082b-819a-4508-b692-8ad79771128c",
   "metadata": {},
   "outputs": [],
   "source": [
    "from statsmodels.tsa.stattools import adfuller"
   ]
  },
  {
   "cell_type": "code",
   "execution_count": 608,
   "id": "02859a03-cb63-4cb8-8b51-1611a7b2b40d",
   "metadata": {},
   "outputs": [],
   "source": [
    "def sol(column):\n",
    "    x= adfuller(column)[1]\n",
    "    if x > 0.05:\n",
    "        print('pvalue = ',x,'  -  Data is Not Stationary')\n",
    "    else :\n",
    "        print('pvalue = ',x,'  -  Data is Stationary')"
   ]
  },
  {
   "cell_type": "code",
   "execution_count": 621,
   "id": "682e4df6-1a5e-4a73-a0f8-3b1303531a6d",
   "metadata": {},
   "outputs": [
    {
     "name": "stdout",
     "output_type": "stream",
     "text": [
      "pvalue =  9.738665793967262e-14   -  Data is Stationary\n"
     ]
    }
   ],
   "source": [
    "sol(df['IR1'].dropna())"
   ]
  },
  {
   "cell_type": "markdown",
   "id": "92ee7af4-67eb-4903-a1a3-d3dcd1dc1379",
   "metadata": {},
   "source": [
    "So D = 1 "
   ]
  },
  {
   "cell_type": "code",
   "execution_count": 614,
   "id": "979cd672-b41a-4d95-b16d-77d2ac066371",
   "metadata": {},
   "outputs": [],
   "source": [
    "df['IR1'] = df['IR'] - df['IR'].shift(1)"
   ]
  },
  {
   "cell_type": "code",
   "execution_count": 626,
   "id": "c8e469f2-ec6f-461a-b763-34c0eac19445",
   "metadata": {},
   "outputs": [],
   "source": [
    "from statsmodels.graphics.tsaplots import plot_acf,plot_pacf"
   ]
  },
  {
   "cell_type": "code",
   "execution_count": 659,
   "id": "c7d58576-753f-4b4a-a2f0-b100b9daa73d",
   "metadata": {},
   "outputs": [
    {
     "data": {
      "image/png": "[encoded data removed]",
      "text/plain": [
       "<Figure size 640x480 with 1 Axes>"
      ]
     },
     "metadata": {},
     "output_type": "display_data"
    }
   ],
   "source": [
    "plot_acf(df['IR1'].dropna(),lags = 20);"
   ]
  },
  {
   "cell_type": "markdown",
   "id": "443ae70e-919c-4b67-ac4b-ff5f544c48b9",
   "metadata": {},
   "source": [
    "Q = 1,2,3,5,7"
   ]
  },
  {
   "cell_type": "code",
   "execution_count": 666,
   "id": "f16bff16-7caf-4ddb-ac07-a3fad00fce67",
   "metadata": {},
   "outputs": [
    {
     "data": {
      "image/png": "[encoded data removed]",
      "text/plain": [
       "<Figure size 640x480 with 1 Axes>"
      ]
     },
     "metadata": {},
     "output_type": "display_data"
    }
   ],
   "source": [
    "plot_pacf(df['IR1'].dropna(),lags=20);"
   ]
  },
  {
   "cell_type": "markdown",
   "id": "5651ef38-699e-445a-bdd4-dc0d3960e266",
   "metadata": {},
   "source": [
    "P = 1,2,3,4,5,7,8"
   ]
  },
  {
   "cell_type": "code",
   "execution_count": null,
   "id": "3ae544c3-a4ae-4623-8e1b-d425a3186bcb",
   "metadata": {},
   "outputs": [],
   "source": []
  },
  {
   "cell_type": "code",
   "execution_count": null,
   "id": "d439d875-bea5-4222-8c06-faf3ae5b8f2e",
   "metadata": {},
   "outputs": [],
   "source": []
  },
  {
   "cell_type": "code",
   "execution_count": null,
   "id": "e3457e17-8ac9-4a9d-888e-765e2fb20358",
   "metadata": {},
   "outputs": [],
   "source": []
  },
  {
   "cell_type": "code",
   "execution_count": null,
   "id": "869f8219-e737-459b-8410-724f2decf1e5",
   "metadata": {},
   "outputs": [],
   "source": []
  },
  {
   "cell_type": "code",
   "execution_count": null,
   "id": "70383710-1799-4eeb-8df7-478c66a19a6f",
   "metadata": {},
   "outputs": [],
   "source": []
  }
 ],
 "metadata": {
  "kernelspec": {
   "display_name": "Python [conda env:base] *",
   "language": "python",
   "name": "conda-base-py"
  },
  "language_info": {
   "codemirror_mode": {
    "name": "ipython",
    "version": 3
   },
   "file_extension": ".py",
   "mimetype": "text/x-python",
   "name": "python",
   "nbconvert_exporter": "python",
   "pygments_lexer": "ipython3",
   "version": "3.12.7"
  }
 },
 "nbformat": 4,
 "nbformat_minor": 5
}
